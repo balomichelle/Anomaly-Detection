{
 "cells": [
  {
   "cell_type": "markdown",
   "metadata": {},
   "source": [
    "# Capco RTR Fraud Detection Project"
   ]
  },
  {
   "cell_type": "markdown",
   "metadata": {},
   "source": [
    "## Loading Libraries"
   ]
  },
  {
   "cell_type": "code",
   "execution_count": 1,
   "metadata": {},
   "outputs": [],
   "source": [
    "import numpy as np\n",
    "import pandas as pd\n",
    "from pandas import read_csv\n",
    "from sklearn.metrics import accuracy_score, recall_score, precision_score, roc_auc_score, f1_score, average_precision_score, roc_curve\n",
    "from xgboost.sklearn import XGBClassifier\n",
    "from sklearn.model_selection import train_test_split\n",
    "from sklearn.preprocessing import LabelEncoder\n",
    "from sklearn.preprocessing import OneHotEncoder\n",
    "from sklearn.model_selection import GridSearchCV, RandomizedSearchCV\n",
    "import matplotlib.pyplot as plt\n",
    "plt.style.use(\"ggplot\")\n",
    "%matplotlib inline"
   ]
  },
  {
   "cell_type": "markdown",
   "metadata": {},
   "source": [
    "## Loading Data"
   ]
  },
  {
   "cell_type": "code",
   "execution_count": 2,
   "metadata": {},
   "outputs": [],
   "source": [
    "# load data\n",
    "training_data = pd.read_csv('sample.csv')\n",
    "test_data = pd.read_csv('test.csv')"
   ]
  },
  {
   "cell_type": "code",
   "execution_count": 119,
   "metadata": {
    "scrolled": true
   },
   "outputs": [
    {
     "data": {
      "text/html": [
       "<div>\n",
       "<style scoped>\n",
       "    .dataframe tbody tr th:only-of-type {\n",
       "        vertical-align: middle;\n",
       "    }\n",
       "\n",
       "    .dataframe tbody tr th {\n",
       "        vertical-align: top;\n",
       "    }\n",
       "\n",
       "    .dataframe thead th {\n",
       "        text-align: right;\n",
       "    }\n",
       "</style>\n",
       "<table border=\"1\" class=\"dataframe\">\n",
       "  <thead>\n",
       "    <tr style=\"text-align: right;\">\n",
       "      <th></th>\n",
       "      <th>x0</th>\n",
       "      <th>x1</th>\n",
       "      <th>x2</th>\n",
       "      <th>x3</th>\n",
       "      <th>x4</th>\n",
       "      <th>x5</th>\n",
       "      <th>x6</th>\n",
       "      <th>x7</th>\n",
       "      <th>x8</th>\n",
       "      <th>x9</th>\n",
       "      <th>...</th>\n",
       "      <th>x91</th>\n",
       "      <th>x92</th>\n",
       "      <th>x93</th>\n",
       "      <th>x94</th>\n",
       "      <th>x95</th>\n",
       "      <th>x96</th>\n",
       "      <th>x97</th>\n",
       "      <th>x98</th>\n",
       "      <th>x99</th>\n",
       "      <th>y</th>\n",
       "    </tr>\n",
       "  </thead>\n",
       "  <tbody>\n",
       "    <tr>\n",
       "      <th>0</th>\n",
       "      <td>-0.247824</td>\n",
       "      <td>6.425853</td>\n",
       "      <td>-6.485658</td>\n",
       "      <td>-8.241462</td>\n",
       "      <td>NaN</td>\n",
       "      <td>0.03%</td>\n",
       "      <td>Tuesday</td>\n",
       "      <td>-9.808905</td>\n",
       "      <td>4.753455</td>\n",
       "      <td>2.537819</td>\n",
       "      <td>...</td>\n",
       "      <td>0.592543</td>\n",
       "      <td>14.967527</td>\n",
       "      <td>6.691044</td>\n",
       "      <td>-0.275572</td>\n",
       "      <td>2.518542</td>\n",
       "      <td>4.637431</td>\n",
       "      <td>-14.296510</td>\n",
       "      <td>1.898115</td>\n",
       "      <td>-1.225228</td>\n",
       "      <td>0</td>\n",
       "    </tr>\n",
       "    <tr>\n",
       "      <th>1</th>\n",
       "      <td>2.623274</td>\n",
       "      <td>-2.808263</td>\n",
       "      <td>5.321746</td>\n",
       "      <td>-2.437653</td>\n",
       "      <td>0.614041</td>\n",
       "      <td>0.02%</td>\n",
       "      <td>Wednesday</td>\n",
       "      <td>10.710053</td>\n",
       "      <td>1.608882</td>\n",
       "      <td>-2.027541</td>\n",
       "      <td>...</td>\n",
       "      <td>-1.712788</td>\n",
       "      <td>-3.638637</td>\n",
       "      <td>-2.256492</td>\n",
       "      <td>2.703101</td>\n",
       "      <td>1.760729</td>\n",
       "      <td>2.660614</td>\n",
       "      <td>1.182922</td>\n",
       "      <td>-3.203078</td>\n",
       "      <td>0.711018</td>\n",
       "      <td>0</td>\n",
       "    </tr>\n",
       "    <tr>\n",
       "      <th>2</th>\n",
       "      <td>-5.460551</td>\n",
       "      <td>5.997701</td>\n",
       "      <td>-4.614194</td>\n",
       "      <td>-6.035128</td>\n",
       "      <td>-1.986438</td>\n",
       "      <td>-0.0%</td>\n",
       "      <td>Tuesday</td>\n",
       "      <td>-3.364649</td>\n",
       "      <td>-2.493473</td>\n",
       "      <td>1.429913</td>\n",
       "      <td>...</td>\n",
       "      <td>2.206956</td>\n",
       "      <td>7.292558</td>\n",
       "      <td>10.095556</td>\n",
       "      <td>1.601155</td>\n",
       "      <td>1.710645</td>\n",
       "      <td>-12.519434</td>\n",
       "      <td>-5.261707</td>\n",
       "      <td>2.032666</td>\n",
       "      <td>-6.445528</td>\n",
       "      <td>0</td>\n",
       "    </tr>\n",
       "    <tr>\n",
       "      <th>3</th>\n",
       "      <td>1.566307</td>\n",
       "      <td>-0.080517</td>\n",
       "      <td>0.064754</td>\n",
       "      <td>6.063193</td>\n",
       "      <td>-2.253075</td>\n",
       "      <td>0.0%</td>\n",
       "      <td>Thurday</td>\n",
       "      <td>-6.111982</td>\n",
       "      <td>-1.796377</td>\n",
       "      <td>-3.169510</td>\n",
       "      <td>...</td>\n",
       "      <td>-3.841669</td>\n",
       "      <td>5.189840</td>\n",
       "      <td>10.291069</td>\n",
       "      <td>-3.642396</td>\n",
       "      <td>0.674300</td>\n",
       "      <td>-1.104317</td>\n",
       "      <td>-3.922342</td>\n",
       "      <td>-0.613947</td>\n",
       "      <td>7.275179</td>\n",
       "      <td>0</td>\n",
       "    </tr>\n",
       "    <tr>\n",
       "      <th>4</th>\n",
       "      <td>0.750715</td>\n",
       "      <td>15.656095</td>\n",
       "      <td>-6.778600</td>\n",
       "      <td>11.251037</td>\n",
       "      <td>-0.308200</td>\n",
       "      <td>0.0%</td>\n",
       "      <td>Wednesday</td>\n",
       "      <td>2.498892</td>\n",
       "      <td>-0.323229</td>\n",
       "      <td>-2.624680</td>\n",
       "      <td>...</td>\n",
       "      <td>8.933781</td>\n",
       "      <td>-7.295794</td>\n",
       "      <td>-11.246059</td>\n",
       "      <td>-4.876594</td>\n",
       "      <td>3.395415</td>\n",
       "      <td>-2.646844</td>\n",
       "      <td>-5.273267</td>\n",
       "      <td>-5.259536</td>\n",
       "      <td>-3.240523</td>\n",
       "      <td>0</td>\n",
       "    </tr>\n",
       "  </tbody>\n",
       "</table>\n",
       "<p>5 rows × 101 columns</p>\n",
       "</div>"
      ],
      "text/plain": [
       "         x0         x1        x2         x3        x4     x5         x6  \\\n",
       "0 -0.247824   6.425853 -6.485658  -8.241462       NaN  0.03%    Tuesday   \n",
       "1  2.623274  -2.808263  5.321746  -2.437653  0.614041  0.02%  Wednesday   \n",
       "2 -5.460551   5.997701 -4.614194  -6.035128 -1.986438  -0.0%    Tuesday   \n",
       "3  1.566307  -0.080517  0.064754   6.063193 -2.253075   0.0%    Thurday   \n",
       "4  0.750715  15.656095 -6.778600  11.251037 -0.308200   0.0%  Wednesday   \n",
       "\n",
       "          x7        x8        x9  ...       x91        x92        x93  \\\n",
       "0  -9.808905  4.753455  2.537819  ...  0.592543  14.967527   6.691044   \n",
       "1  10.710053  1.608882 -2.027541  ... -1.712788  -3.638637  -2.256492   \n",
       "2  -3.364649 -2.493473  1.429913  ...  2.206956   7.292558  10.095556   \n",
       "3  -6.111982 -1.796377 -3.169510  ... -3.841669   5.189840  10.291069   \n",
       "4   2.498892 -0.323229 -2.624680  ...  8.933781  -7.295794 -11.246059   \n",
       "\n",
       "        x94       x95        x96        x97       x98       x99  y  \n",
       "0 -0.275572  2.518542   4.637431 -14.296510  1.898115 -1.225228  0  \n",
       "1  2.703101  1.760729   2.660614   1.182922 -3.203078  0.711018  0  \n",
       "2  1.601155  1.710645 -12.519434  -5.261707  2.032666 -6.445528  0  \n",
       "3 -3.642396  0.674300  -1.104317  -3.922342 -0.613947  7.275179  0  \n",
       "4 -4.876594  3.395415  -2.646844  -5.273267 -5.259536 -3.240523  0  \n",
       "\n",
       "[5 rows x 101 columns]"
      ]
     },
     "execution_count": 119,
     "metadata": {},
     "output_type": "execute_result"
    }
   ],
   "source": [
    "training_data.head()"
   ]
  },
  {
   "cell_type": "markdown",
   "metadata": {},
   "source": [
    "## Data Exploration\n",
    "According to correlation matrix, the numeric columns have low correlation.\n",
    "The dataset has been transformed by principle component analysis."
   ]
  },
  {
   "cell_type": "code",
   "execution_count": 120,
   "metadata": {},
   "outputs": [
    {
     "name": "stdout",
     "output_type": "stream",
     "text": [
      "the shape of the training dataset is  (8000, 101)\n",
      "the shape of the test dataset is  (2000, 100)\n"
     ]
    }
   ],
   "source": [
    "# the shape of the training the test dataset \n",
    "print(\"the shape of the training dataset is \", training_data.shape)\n",
    "print(\"the shape of the test dataset is \", test_data.shape)"
   ]
  },
  {
   "cell_type": "code",
   "execution_count": 121,
   "metadata": {
    "scrolled": true
   },
   "outputs": [
    {
     "name": "stdout",
     "output_type": "stream",
     "text": [
      "categorical variables columns are ['x5', 'x6', 'x20', 'x27', 'x49', 'x57']\n"
     ]
    }
   ],
   "source": [
    "# extract the categorical variables columns\n",
    "categorical = [cname for cname in training_data.columns\n",
    "              if training_data[cname].dtype == \"object\"]\n",
    "print(\"categorical variables columns are\", categorical)\n",
    "\n",
    "categorical_df = training_data[['x5', 'x6', 'x20', 'x27', 'x49', 'x57']]"
   ]
  },
  {
   "cell_type": "code",
   "execution_count": 122,
   "metadata": {
    "scrolled": false
   },
   "outputs": [
    {
     "name": "stdout",
     "output_type": "stream",
     "text": [
      "variable x5 : ['0.03%' '0.02%' '-0.0%' '0.0%' '-0.01%' '-0.02%' '0.01%' '-0.03%' nan\n",
      " '-0.04%' '0.04%']\n",
      "variable x6 : ['Tuesday' 'Wednesday' 'Thurday' nan 'Monday' 'Friday']\n",
      "variable x20 : ['Aug' 'Jul' 'Jun' 'May' 'Apr' 'Sept' 'Oct' nan 'Mar' 'Feb' 'Nov' 'Dec'\n",
      " 'Jan']\n",
      "variable x27 : ['Afternoon' 'Evening' 'Night' 'Morning' nan]\n",
      "variable x49 : [False True nan]\n",
      "variable x57 : ['$1578.34' '$767.76' '$931.06' ... '$220.59' '$467.47' '$-598.35']\n"
     ]
    }
   ],
   "source": [
    "# list the unique values in the above variable\n",
    "for cname in categorical:\n",
    "    print( \"variable\", cname ,\":\", training_data[cname].unique())"
   ]
  },
  {
   "cell_type": "markdown",
   "metadata": {},
   "source": [
    "## Data Preparation"
   ]
  },
  {
   "cell_type": "markdown",
   "metadata": {},
   "source": [
    "### Split the variable into predictor and input variable"
   ]
  },
  {
   "cell_type": "code",
   "execution_count": 3,
   "metadata": {},
   "outputs": [],
   "source": [
    "Y = training_data['y']\n",
    "training_data = training_data.drop(['y'],axis=1)"
   ]
  },
  {
   "cell_type": "markdown",
   "metadata": {},
   "source": [
    "### Convert categorical variable to numeric variable"
   ]
  },
  {
   "cell_type": "code",
   "execution_count": 4,
   "metadata": {},
   "outputs": [],
   "source": [
    "# convert the percentage column x5 and currency column x57 into numeric data\n",
    "training_data['x5'] = training_data['x5'].str.rstrip('%').astype('float') / 100\n",
    "training_data['x57'] = training_data['x57'].replace('[\\$,)]','',regex=True).replace('[(]','-',regex=True).astype(float)\n",
    "\n",
    "test_data['x5'] = test_data['x5'].str.rstrip('%').astype('float') / 100\n",
    "test_data['x57'] = test_data['x57'].replace('[\\$,)]','',regex=True).replace('[(]','-',regex=True).astype(float)"
   ]
  },
  {
   "cell_type": "markdown",
   "metadata": {},
   "source": [
    "### One-Hot encoding on categorical variables"
   ]
  },
  {
   "cell_type": "code",
   "execution_count": 5,
   "metadata": {},
   "outputs": [],
   "source": [
    "training_data_cat_df = training_data[['x6', 'x20', 'x27', 'x49']]\n",
    "test_data_cat_df = test_data[['x6', 'x20', 'x27', 'x49']]\n",
    "training_data_cat_df_2 = pd.get_dummies(training_data_cat_df, drop_first=True)\n",
    "test_data_cat_df_2 = pd.get_dummies(test_data_cat_df, drop_first=True)\n",
    "training_data = pd.concat([training_data, training_data_cat_df_2], axis=1)\n",
    "test_data = pd.concat([test_data, test_data_cat_df_2], axis=1)"
   ]
  },
  {
   "cell_type": "code",
   "execution_count": 8,
   "metadata": {
    "scrolled": true
   },
   "outputs": [],
   "source": [
    "training_data = training_data.drop(['x6', 'x20', 'x27', 'x49'], axis=1)\n",
    "test_data = test_data.drop(['x6', 'x20', 'x27', 'x49'], axis=1)"
   ]
  },
  {
   "cell_type": "code",
   "execution_count": 9,
   "metadata": {},
   "outputs": [],
   "source": [
    "encoded_x = training_data"
   ]
  },
  {
   "cell_type": "markdown",
   "metadata": {},
   "source": [
    "### Encode predictor values as integers"
   ]
  },
  {
   "cell_type": "code",
   "execution_count": 10,
   "metadata": {},
   "outputs": [],
   "source": [
    "label_encoder = LabelEncoder()\n",
    "label_encoder = label_encoder.fit(Y)\n",
    "label_encoded_y = label_encoder.transform(Y)"
   ]
  },
  {
   "cell_type": "markdown",
   "metadata": {},
   "source": [
    "## XGBOOST Model Training"
   ]
  },
  {
   "cell_type": "markdown",
   "metadata": {},
   "source": [
    "### The final fit model on test set "
   ]
  },
  {
   "cell_type": "code",
   "execution_count": 11,
   "metadata": {},
   "outputs": [],
   "source": [
    "# set the scaling weight to deal with imbalanced dataset problem\n",
    "ratio = float(np.sum( Y == 0)) / np.sum( Y == 1)"
   ]
  },
  {
   "cell_type": "code",
   "execution_count": 12,
   "metadata": {},
   "outputs": [],
   "source": [
    "# split the data into train and test sets \n",
    "\n",
    "seed = 7\n",
    "test_size = 0.2\n",
    "X_train, X_test, y_train, y_test = train_test_split(encoded_x, label_encoded_y, test_size=test_size, random_state=seed)\n"
   ]
  },
  {
   "cell_type": "code",
   "execution_count": 13,
   "metadata": {
    "scrolled": true
   },
   "outputs": [
    {
     "name": "stdout",
     "output_type": "stream",
     "text": [
      "XGBClassifier(base_score=0.5, booster='gbtree', colsample_bylevel=1,\n",
      "       colsample_bytree=1, gamma=0.2, learning_rate=0.019,\n",
      "       max_delta_step=1, max_depth=3, min_child_weight=5, missing=None,\n",
      "       n_estimators=100, n_jobs=1, nthread=None,\n",
      "       objective='binary:logistic', random_state=0, reg_alpha=0,\n",
      "       reg_lambda=0.05, scale_pos_weight=18.5, seed=None, silent=True,\n",
      "       subsample=1)\n",
      "Accuracy: 86.31%\n",
      "Recall: 87.50%\n",
      "Precision: 25.09%\n",
      "ROC_AUC: 86.88%\n"
     ]
    }
   ],
   "source": [
    "# fit model no training data\n",
    "model = XGBClassifier(scale_pos_weight = 18.5,max_depth=3, \n",
    "                      gamma = 0.2, min_child_weight=5,\n",
    "                      reg_lambda = 0.05, learning_rate = 0.019,\n",
    "                      max_delta_step = 1\n",
    "                    )\n",
    "model.fit(X_train, y_train)\n",
    "print(model)\n",
    "# make predictions for test data\n",
    "y_pred = model.predict(X_test)\n",
    "predictions = [round(value) for value in y_pred]\n",
    "\n",
    "# evaluate predictions\n",
    "accuracy = accuracy_score(y_test, predictions)\n",
    "print(\"Accuracy: %.2f%%\" % (accuracy * 100.0))\n",
    "recall = recall_score(y_test, predictions)\n",
    "print(\"Recall: %.2f%%\" % (recall * 100.0))\n",
    "precision = precision_score(y_test, predictions)\n",
    "print(\"Precision: %.2f%%\" % (precision * 100.0))\n",
    "roc_auc = roc_auc_score(y_test, predictions)\n",
    "print(\"ROC_AUC: %.2f%%\" % (roc_auc * 100.0))"
   ]
  },
  {
   "cell_type": "code",
   "execution_count": 14,
   "metadata": {
    "scrolled": true
   },
   "outputs": [
    {
     "data": {
      "text/html": [
       "<div>\n",
       "<style scoped>\n",
       "    .dataframe tbody tr th:only-of-type {\n",
       "        vertical-align: middle;\n",
       "    }\n",
       "\n",
       "    .dataframe tbody tr th {\n",
       "        vertical-align: top;\n",
       "    }\n",
       "\n",
       "    .dataframe thead th {\n",
       "        text-align: right;\n",
       "    }\n",
       "</style>\n",
       "<table border=\"1\" class=\"dataframe\">\n",
       "  <thead>\n",
       "    <tr style=\"text-align: right;\">\n",
       "      <th>Predicted</th>\n",
       "      <th>0</th>\n",
       "      <th>1</th>\n",
       "      <th>All</th>\n",
       "    </tr>\n",
       "    <tr>\n",
       "      <th>Actual</th>\n",
       "      <th></th>\n",
       "      <th></th>\n",
       "      <th></th>\n",
       "    </tr>\n",
       "  </thead>\n",
       "  <tbody>\n",
       "    <tr>\n",
       "      <th>0</th>\n",
       "      <td>1311</td>\n",
       "      <td>209</td>\n",
       "      <td>1520</td>\n",
       "    </tr>\n",
       "    <tr>\n",
       "      <th>1</th>\n",
       "      <td>10</td>\n",
       "      <td>70</td>\n",
       "      <td>80</td>\n",
       "    </tr>\n",
       "    <tr>\n",
       "      <th>All</th>\n",
       "      <td>1321</td>\n",
       "      <td>279</td>\n",
       "      <td>1600</td>\n",
       "    </tr>\n",
       "  </tbody>\n",
       "</table>\n",
       "</div>"
      ],
      "text/plain": [
       "Predicted     0    1   All\n",
       "Actual                    \n",
       "0          1311  209  1520\n",
       "1            10   70    80\n",
       "All        1321  279  1600"
      ]
     },
     "execution_count": 14,
     "metadata": {},
     "output_type": "execute_result"
    }
   ],
   "source": [
    "# Plot the confusion matrix\n",
    "\n",
    "pd.crosstab(pd.Series(y_test, name = 'Actual'),\n",
    "            pd.Series(predictions, name = 'Predicted'),\n",
    "            margins = True)"
   ]
  },
  {
   "cell_type": "markdown",
   "metadata": {},
   "source": [
    "### Visualiza the Xgboost ROC Curve"
   ]
  },
  {
   "cell_type": "code",
   "execution_count": 15,
   "metadata": {},
   "outputs": [],
   "source": [
    "test_data_pred_prob = model.predict_proba(X_test)\n",
    "fpr, tpr, thresholds = roc_curve(y_test, test_data_pred_prob[:,1], pos_label=1)"
   ]
  },
  {
   "cell_type": "code",
   "execution_count": 16,
   "metadata": {},
   "outputs": [
    {
     "data": {
      "image/png": "[encoded data removed]",
      "text/plain": [
       "<Figure size 576x576 with 1 Axes>"
      ]
     },
     "metadata": {
      "needs_background": "light"
     },
     "output_type": "display_data"
    }
   ],
   "source": [
    "plt.figure(figsize=(8,8))\n",
    "auc = round(np.trapz(tpr, fpr),4)\n",
    "plt.plot(fpr, tpr, label='XgBoost AUC =' + str(auc), lw = 3, color = 'teal')\n",
    "plt.title(\"XgBoost ROC Curve  AUC = 0.898\" , fontsize= 25)\n",
    "plt.xlabel('False Positive Rate', fontsize = 20)\n",
    "plt.ylabel('True Positive Rate', fontsize = 20)\n",
    "plt.legend(prop ={'size':20})\n",
    "plt.show()"
   ]
  },
  {
   "cell_type": "markdown",
   "metadata": {},
   "source": [
    "## XgBoost Parameter Fine Tuning"
   ]
  },
  {
   "cell_type": "markdown",
   "metadata": {},
   "source": [
    "#### Step 1: Fix learning rate and number of estimators for tuning tree-based model"
   ]
  },
  {
   "cell_type": "code",
   "execution_count": 18,
   "metadata": {
    "scrolled": true
   },
   "outputs": [
    {
     "name": "stdout",
     "output_type": "stream",
     "text": [
      "XGBClassifier(base_score=0.5, booster='gbtree', colsample_bylevel=1,\n",
      "       colsample_bytree=0.8, gamma=0, learning_rate=0.1, max_delta_step=0,\n",
      "       max_depth=5, min_child_weight=1, missing=None, n_estimators=1000,\n",
      "       n_jobs=1, nthread=None, objective='binary:logistic', random_state=0,\n",
      "       reg_alpha=0, reg_lambda=1, scale_pos_weight=18.5, seed=27,\n",
      "       silent=True, subsample=0.8)\n",
      "Accuracy: 96.56%\n",
      "Recall: 48.75%\n",
      "ROC_AUC: 73.91%\n"
     ]
    }
   ],
   "source": [
    "\n",
    "# split the data into train and test sets \n",
    "seed = 7\n",
    "test_size = 0.2\n",
    "X_train, X_test, y_train, y_test = train_test_split(encoded_x, label_encoded_y, test_size=test_size, random_state=seed)\n",
    "\n",
    "# fit model to training data\n",
    "model1 = XGBClassifier(\n",
    "    learning_rate =0.1, n_estimators=1000,\n",
    "    max_depth=5, min_child_weight=1, gamma=0,subsample=0.8,colsample_bytree=0.8,\n",
    "    objective= 'binary:logistic', scale_pos_weight=18.5,seed=27)\n",
    "\n",
    "model1.fit(X_train, y_train)\n",
    "print(model1)\n",
    "# make predictions for test data\n",
    "y_pred = model1.predict(X_test)\n",
    "predictions = [round(value) for value in y_pred]\n",
    "\n",
    "# evaluate predictions\n",
    "accuracy = accuracy_score(y_test, predictions)\n",
    "print(\"Accuracy: %.2f%%\" % (accuracy * 100.0))\n",
    "recall = recall_score(y_test, predictions)\n",
    "print(\"Recall: %.2f%%\" % (recall * 100.0))\n",
    "roc_auc = roc_auc_score(y_test, predictions)\n",
    "print(\"ROC_AUC: %.2f%%\" % (roc_auc * 100.0))"
   ]
  },
  {
   "cell_type": "markdown",
   "metadata": {},
   "source": [
    "Note: \n",
    "Since the dataset is an imbalanced dataset,\n",
    "scale_pos_weight is set to be the ratio of negative cases / positive cases\n",
    "in predictor variable to control the balance."
   ]
  },
  {
   "cell_type": "markdown",
   "metadata": {},
   "source": [
    "#### Step 2: Tune max_depth and min_child_weight"
   ]
  },
  {
   "cell_type": "code",
   "execution_count": null,
   "metadata": {},
   "outputs": [],
   "source": [
    "bst_grid = GridSearchCV(\n",
    "    estimator = XGBClassifier(**params_fixed, seed=seed),\n",
    "    param_grid=params_grid,\n",
    "    cv=cv,\n",
    "    scoring='roc_auc'\n",
    ")"
   ]
  },
  {
   "cell_type": "code",
   "execution_count": 31,
   "metadata": {},
   "outputs": [
    {
     "data": {
      "text/plain": [
       "GridSearchCV(cv=StratifiedKFold(n_splits=5, random_state=342, shuffle=True),\n",
       "       error_score='raise-deprecating',\n",
       "       estimator=XGBClassifier(base_score=0.5, booster='gbtree', colsample_bylevel=1,\n",
       "       colsample_bytree=0.8, gamma=0, learning_rate=0.1, max_delta_step=0,\n",
       "       max_depth=3, min_child_weight=1, missing=None, n_estimators=100,\n",
       "       n_jobs=1, nthread=None, objective='binary:logistic', random_state=0,\n",
       "       reg_alpha=0, reg_lambda=1, scale_pos_weight=18.5, seed=342,\n",
       "       silent=True, subsample=0.8),\n",
       "       fit_params=None, iid='warn', n_jobs=None,\n",
       "       param_grid={'min_child_weight': [1, 3, 5]}, pre_dispatch='2*n_jobs',\n",
       "       refit=True, return_train_score='warn', scoring='roc_auc', verbose=0)"
      ]
     },
     "execution_count": 31,
     "metadata": {},
     "output_type": "execute_result"
    }
   ],
   "source": [
    "param_test2 = {\n",
    "    'min_child_weight':[1,3,5]\n",
    "}\n",
    "\n",
    "params_fixed = {\n",
    "    'objective':'binary:logistic',\n",
    "    'gamma':0, \n",
    "    'max_depth':3,\n",
    "    'subsample' : 0.8, \n",
    "    'colsample_bytree' : 0.8,\n",
    "    'scale_pos_weight':18.5\n",
    "}\n",
    "\n",
    "gsearch2 = GridSearchCV(estimator = XGBClassifier(**params_fixed, seed=seed), \n",
    "                        param_grid = param_test2, \n",
    "                        scoring='roc_auc',\n",
    "                        cv=cv)\n",
    "\n",
    "gsearch2.fit(X_train, y_train)"
   ]
  },
  {
   "cell_type": "code",
   "execution_count": 32,
   "metadata": {},
   "outputs": [
    {
     "data": {
      "text/plain": [
       "({'min_child_weight': 5}, 0.9320438566429626)"
      ]
     },
     "execution_count": 32,
     "metadata": {},
     "output_type": "execute_result"
    }
   ],
   "source": [
    "gsearch2.best_params_, gsearch2.best_score_"
   ]
  },
  {
   "cell_type": "markdown",
   "metadata": {},
   "source": [
    "#### Step3: Tune Gamma"
   ]
  },
  {
   "cell_type": "code",
   "execution_count": 17,
   "metadata": {},
   "outputs": [
    {
     "data": {
      "text/plain": [
       "GridSearchCV(cv=StratifiedKFold(n_splits=5, random_state=342, shuffle=True),\n",
       "       error_score='raise-deprecating',\n",
       "       estimator=XGBClassifier(base_score=0.5, booster='gbtree', colsample_bylevel=1,\n",
       "       colsample_bytree=0.8, gamma=0, learning_rate=0.1, max_delta_step=0,\n",
       "       max_depth=3, min_child_weight=5, missing=None, n_estimators=100,\n",
       "       n_jobs=1, nthread=None, objective='binary:logistic', random_state=0,\n",
       "       reg_alpha=0, reg_lambda=1, scale_pos_weight=18.5, seed=342,\n",
       "       silent=True, subsample=0.8),\n",
       "       fit_params=None, iid='warn', n_jobs=None,\n",
       "       param_grid={'gamma': [0.0, 0.1, 0.2, 0.3, 0.4]},\n",
       "       pre_dispatch='2*n_jobs', refit=True, return_train_score='warn',\n",
       "       scoring='roc_auc', verbose=0)"
      ]
     },
     "execution_count": 17,
     "metadata": {},
     "output_type": "execute_result"
    }
   ],
   "source": [
    "\n",
    "param_test3 = { \n",
    "    'gamma':[i/10.0 for i in range(0,5)] \n",
    "}\n",
    "\n",
    "params_fixed = {\n",
    "    'objective':'binary:logistic',\n",
    "    'min_child_weight':5, \n",
    "    'max_depth':3,\n",
    "    'subsample' : 0.8, \n",
    "    'colsample_bytree' : 0.8,\n",
    "    'scale_pos_weight':18.5\n",
    "}\n",
    "\n",
    "gsearch3 = GridSearchCV(estimator = XGBClassifier(**params_fixed, seed=seed), \n",
    "                        param_grid = param_test3, \n",
    "                        scoring='roc_auc',\n",
    "                        cv=cv)\n",
    "\n",
    "gsearch3.fit(X_train, y_train)"
   ]
  },
  {
   "cell_type": "code",
   "execution_count": 18,
   "metadata": {},
   "outputs": [
    {
     "data": {
      "text/plain": [
       "({'gamma': 0.2}, 0.9324278521152598)"
      ]
     },
     "execution_count": 18,
     "metadata": {},
     "output_type": "execute_result"
    }
   ],
   "source": [
    "gsearch3.best_params_, gsearch3.best_score_"
   ]
  },
  {
   "cell_type": "markdown",
   "metadata": {},
   "source": [
    "#### Step 4: Tune subsample and colsample_bytree"
   ]
  },
  {
   "cell_type": "code",
   "execution_count": 21,
   "metadata": {},
   "outputs": [
    {
     "data": {
      "text/plain": [
       "GridSearchCV(cv=StratifiedKFold(n_splits=5, random_state=342, shuffle=True),\n",
       "       error_score='raise-deprecating',\n",
       "       estimator=XGBClassifier(base_score=0.5, booster='gbtree', colsample_bylevel=1,\n",
       "       colsample_bytree=1, gamma=0.2, learning_rate=0.1, max_delta_step=0,\n",
       "       max_depth=3, min_child_weight=5, missing=None, n_estimators=100,\n",
       "       n_jobs=1, nthread=None, objective='binary:logistic', random_state=0,\n",
       "       reg_alpha=0, reg_lambda=1, scale_pos_weight=18.5, seed=7,\n",
       "       silent=True, subsample=1),\n",
       "       fit_params=None, iid='warn', n_jobs=None,\n",
       "       param_grid={'subsample': [0.6, 0.7, 0.8, 0.9], 'colsample_bytree': [0.6, 0.7, 0.8, 0.9]},\n",
       "       pre_dispatch='2*n_jobs', refit=True, return_train_score='warn',\n",
       "       scoring='roc_auc', verbose=0)"
      ]
     },
     "execution_count": 21,
     "metadata": {},
     "output_type": "execute_result"
    }
   ],
   "source": [
    "\n",
    "param_test4 = { \n",
    "    'subsample':[i/10.0 for i in range(6,10)],\n",
    "    'colsample_bytree':[i/10.0 for i in range(6,10)]\n",
    "}\n",
    "\n",
    "params_fixed = {\n",
    "    'objective':'binary:logistic',\n",
    "    'gamma':0.2,\n",
    "    'min_child_weight':5, \n",
    "    'max_depth':3,\n",
    "    'scale_pos_weight':18.5\n",
    "}\n",
    "\n",
    "gsearch4 = GridSearchCV(estimator = XGBClassifier(**params_fixed, seed=seed), \n",
    "                        param_grid = param_test4, \n",
    "                        scoring='roc_auc',\n",
    "                        cv=cv)\n",
    "\n",
    "gsearch4.fit(X_train, y_train)"
   ]
  },
  {
   "cell_type": "code",
   "execution_count": 22,
   "metadata": {},
   "outputs": [
    {
     "data": {
      "text/plain": [
       "({'colsample_bytree': 0.9, 'subsample': 0.7}, 0.9327429049549849)"
      ]
     },
     "execution_count": 22,
     "metadata": {},
     "output_type": "execute_result"
    }
   ],
   "source": [
    "gsearch4.best_params_, gsearch4.best_score_"
   ]
  },
  {
   "cell_type": "markdown",
   "metadata": {},
   "source": [
    "### Note\n",
    "I use the default parameter in colsample_bytree and subsample\n",
    "since they perform better."
   ]
  },
  {
   "cell_type": "markdown",
   "metadata": {},
   "source": [
    "#### Step 5. Tune the regularization"
   ]
  },
  {
   "cell_type": "code",
   "execution_count": 33,
   "metadata": {},
   "outputs": [
    {
     "data": {
      "text/plain": [
       "GridSearchCV(cv=StratifiedKFold(n_splits=5, random_state=342, shuffle=True),\n",
       "       error_score='raise-deprecating',\n",
       "       estimator=XGBClassifier(base_score=0.5, booster='gbtree', colsample_bylevel=1,\n",
       "       colsample_bytree=1, gamma=0.2, learning_rate=0.1, max_delta_step=0,\n",
       "       max_depth=3, min_child_weight=5, missing=None, n_estimators=100,\n",
       "       n_jobs=1, nthread=None, objective='binary:logistic', random_state=0,\n",
       "       reg_alpha=0, reg_lambda=1, scale_pos_weight=18.5, seed=7,\n",
       "       silent=True, subsample=1),\n",
       "       fit_params=None, iid='warn', n_jobs=None,\n",
       "       param_grid={'reg_lambda': [0.01, 0.05, 0.1, 0.5, 0.8, 0.9, 1]},\n",
       "       pre_dispatch='2*n_jobs', refit=True, return_train_score='warn',\n",
       "       scoring='roc_auc', verbose=0)"
      ]
     },
     "execution_count": 33,
     "metadata": {},
     "output_type": "execute_result"
    }
   ],
   "source": [
    "\n",
    "param_test5 = { \n",
    "    'reg_lambda':[1e-2, 0.05,0.1, 0.5, 0.8, 0.9, 1] \n",
    "}\n",
    "\n",
    "params_fixed = {\n",
    "    'objective':'binary:logistic',\n",
    "    'gamma':0.2,\n",
    "    'min_child_weight':5, \n",
    "    'max_depth':3,\n",
    "    'scale_pos_weight':18.5\n",
    "}\n",
    "\n",
    "gsearch5 = GridSearchCV(estimator = XGBClassifier(**params_fixed, seed=seed), \n",
    "                        param_grid = param_test5, \n",
    "                        scoring='roc_auc',\n",
    "                        cv=cv)\n",
    "\n",
    "gsearch5.fit(X_train, y_train)"
   ]
  },
  {
   "cell_type": "code",
   "execution_count": 34,
   "metadata": {},
   "outputs": [
    {
     "data": {
      "text/plain": [
       "({'reg_lambda': 0.05}, 0.9339829088488238)"
      ]
     },
     "execution_count": 34,
     "metadata": {},
     "output_type": "execute_result"
    }
   ],
   "source": [
    "gsearch5.best_params_, gsearch5.best_score_"
   ]
  },
  {
   "cell_type": "markdown",
   "metadata": {},
   "source": [
    "#### 6. Tune the learning rate"
   ]
  },
  {
   "cell_type": "code",
   "execution_count": 39,
   "metadata": {},
   "outputs": [
    {
     "data": {
      "text/plain": [
       "GridSearchCV(cv=StratifiedKFold(n_splits=5, random_state=342, shuffle=True),\n",
       "       error_score='raise-deprecating',\n",
       "       estimator=XGBClassifier(base_score=0.5, booster='gbtree', colsample_bylevel=1,\n",
       "       colsample_bytree=1, gamma=0.2, learning_rate=0.1, max_delta_step=0,\n",
       "       max_depth=3, min_child_weight=5, missing=None, n_estimators=100,\n",
       "       n_jobs=1, nthread=None, objective='binary:logistic', random_state=0,\n",
       "       reg_alpha=0, reg_lambda=0.05, scale_pos_weight=18.5, seed=7,\n",
       "       silent=True, subsample=1),\n",
       "       fit_params=None, iid='warn', n_jobs=None,\n",
       "       param_grid={'learning_rate': [0.005, 0.007, 0.009, 0.011, 0.013, 0.015, 0.017, 0.019]},\n",
       "       pre_dispatch='2*n_jobs', refit=True, return_train_score='warn',\n",
       "       scoring='roc_auc', verbose=0)"
      ]
     },
     "execution_count": 39,
     "metadata": {},
     "output_type": "execute_result"
    }
   ],
   "source": [
    "\n",
    "param_test6 = { \n",
    "    'learning_rate':[i/1000.0 for i in range(5,20,2)] \n",
    "}\n",
    "\n",
    "params_fixed = {\n",
    "    'objective':'binary:logistic',\n",
    "    'gamma':0.2,\n",
    "    'min_child_weight':5, \n",
    "    'max_depth':3,\n",
    "    'scale_pos_weight':18.5,\n",
    "    'reg_lambda': 0.05\n",
    "}\n",
    "\n",
    "gsearch6 = GridSearchCV(estimator = XGBClassifier(**params_fixed, seed=seed), \n",
    "                        param_grid = param_test6, \n",
    "                        scoring='roc_auc',\n",
    "                        cv=cv)\n",
    "\n",
    "gsearch6.fit(X_train, y_train)"
   ]
  },
  {
   "cell_type": "code",
   "execution_count": 40,
   "metadata": {},
   "outputs": [
    {
     "data": {
      "text/plain": [
       "({'learning_rate': 0.019}, 0.9225224112269254)"
      ]
     },
     "execution_count": 40,
     "metadata": {},
     "output_type": "execute_result"
    }
   ],
   "source": [
    "gsearch6.best_params_, gsearch6.best_score_"
   ]
  },
  {
   "cell_type": "markdown",
   "metadata": {},
   "source": [
    "#### Step7 Tune the max_delta_step"
   ]
  },
  {
   "cell_type": "code",
   "execution_count": 43,
   "metadata": {},
   "outputs": [
    {
     "data": {
      "text/plain": [
       "GridSearchCV(cv=StratifiedKFold(n_splits=5, random_state=342, shuffle=True),\n",
       "       error_score='raise-deprecating',\n",
       "       estimator=XGBClassifier(base_score=0.5, booster='gbtree', colsample_bylevel=1,\n",
       "       colsample_bytree=1, gamma=0.2, learning_rate=0.019,\n",
       "       max_delta_step=0, max_depth=3, min_child_weight=5, missing=None,\n",
       "       n_estimators=100, n_jobs=1, nthread=None,\n",
       "       objective='binary:logistic', random_state=0, reg_alpha=0,\n",
       "       reg_lambda=0.05, scale_pos_weight=18.5, seed=7, silent=True,\n",
       "       subsample=1),\n",
       "       fit_params=None, iid='warn', n_jobs=None,\n",
       "       param_grid={'max_delta_step': [1, 3, 5, 7, 9]},\n",
       "       pre_dispatch='2*n_jobs', refit=True, return_train_score='warn',\n",
       "       scoring='roc_auc', verbose=0)"
      ]
     },
     "execution_count": 43,
     "metadata": {},
     "output_type": "execute_result"
    }
   ],
   "source": [
    "\n",
    "param_test7 = { \n",
    "    'max_delta_step':[1,3,5,7,9]\n",
    "}\n",
    "\n",
    "params_fixed = {\n",
    "    'objective':'binary:logistic',\n",
    "    'gamma':0.2,\n",
    "    'min_child_weight':5, \n",
    "    'max_depth':3,\n",
    "    'scale_pos_weight':18.5,\n",
    "    'reg_lambda': 0.05,\n",
    "    'learning_rate' : 0.019\n",
    "}\n",
    "\n",
    "gsearch7 = GridSearchCV(estimator = XGBClassifier(**params_fixed, seed=seed), \n",
    "                        param_grid = param_test7, \n",
    "                        scoring='roc_auc',\n",
    "                        cv=cv)\n",
    "\n",
    "gsearch7.fit(X_train, y_train)"
   ]
  },
  {
   "cell_type": "code",
   "execution_count": 44,
   "metadata": {},
   "outputs": [
    {
     "data": {
      "text/plain": [
       "({'max_delta_step': 1}, 0.9225224112269254)"
      ]
     },
     "execution_count": 44,
     "metadata": {},
     "output_type": "execute_result"
    }
   ],
   "source": [
    "gsearch7.best_params_, gsearch6.best_score_"
   ]
  },
  {
   "cell_type": "markdown",
   "metadata": {},
   "source": [
    "## Make prediction for the test dataset\n",
    " - using XGboost Model"
   ]
  },
  {
   "cell_type": "code",
   "execution_count": 108,
   "metadata": {},
   "outputs": [],
   "source": [
    "test_data_pred = model.predict(test_data)\n",
    "test_data_pred_prob = model.predict_proba(test_data)\n",
    "test_data_pred_df = pd.DataFrame(data=test_data_pred_prob)\n",
    "test_data_pred_df.to_csv(\"xgboost_prob.csv\")"
   ]
  },
  {
   "cell_type": "markdown",
   "metadata": {},
   "source": [
    "## Anomaly Detection\n",
    "Using Anomaly Detection to get the anomaly score as a complementary part in the combined anomaly probability. Isolation forest and Local outlier Factor are two good ways to get anomaly scores.\n",
    "\n",
    "Anomaly Detection could identify new attack vector and learn quickly."
   ]
  },
  {
   "cell_type": "markdown",
   "metadata": {},
   "source": [
    "### Isolation Forest"
   ]
  },
  {
   "cell_type": "code",
   "execution_count": 24,
   "metadata": {},
   "outputs": [],
   "source": [
    "from sklearn.ensemble import IsolationForest\n",
    "# Fill in the missing value with 0\n",
    "IF_X = encoded_x.fillna(0)\n",
    "test_data = test_data.fillna(0)\n",
    "\n",
    "# number of fraud and proportion\n",
    "anomaly_rate = Y[Y== 1].count() / Y.shape[0]"
   ]
  },
  {
   "cell_type": "code",
   "execution_count": 26,
   "metadata": {
    "scrolled": true
   },
   "outputs": [
    {
     "data": {
      "text/plain": [
       "IsolationForest(behaviour='new', bootstrap=False, contamination=0.054875,\n",
       "        max_features=1.0, max_samples='auto', n_estimators=100,\n",
       "        n_jobs=None, random_state=42, verbose=0)"
      ]
     },
     "execution_count": 26,
     "metadata": {},
     "output_type": "execute_result"
    }
   ],
   "source": [
    "from sklearn.ensemble import IsolationForest\n",
    "\n",
    "clf_iforest = IsolationForest(behaviour = 'new',\n",
    "                          max_samples=\"auto\", n_estimators = 100,\n",
    "                          random_state=42, contamination = anomaly_rate)\n",
    "clf_iforest.fit(IF_X, label_encoded_y)"
   ]
  },
  {
   "cell_type": "code",
   "execution_count": 27,
   "metadata": {
    "scrolled": false
   },
   "outputs": [
    {
     "name": "stdout",
     "output_type": "stream",
     "text": [
      "The predicted class:  [0. 0. 0. ... 0. 0. 0.]\n",
      "The predicted anomaly score:  [0.46071353 0.47753914 0.49409575 ... 0.47538655 0.48436812 0.45628751]\n"
     ]
    }
   ],
   "source": [
    "y_pred = clf_iforest.predict(test_data)\n",
    "y_pred = -(y_pred -1)/2\n",
    "y_score = clf_iforest.decision_function(test_data)\n",
    "y_score = 0.5 - y_score\n",
    "print(\"The predicted class: \", y_pred)\n",
    "print(\"The predicted anomaly score: \", y_score)"
   ]
  },
  {
   "cell_type": "markdown",
   "metadata": {},
   "source": [
    "#### the anomaly score represents the degree of anomaly\n",
    "anomaly scores > 0.5 are considered indicators of outliers."
   ]
  },
  {
   "cell_type": "code",
   "execution_count": 31,
   "metadata": {
    "scrolled": false
   },
   "outputs": [
    {
     "data": {
      "image/png": "[encoded data removed]",
      "text/plain": [
       "<Figure size 864x576 with 1 Axes>"
      ]
     },
     "metadata": {
      "needs_background": "light"
     },
     "output_type": "display_data"
    }
   ],
   "source": [
    "plt.figure(figsize=(12,8))\n",
    "plt.hist(y_score, bins=20, label=\"anomaly score\", color ='Teal', alpha = 0.6)\n",
    "plt.title(\"Distribution of Anomaly Scores in Isolation Forest\", fontsize= 25)\n",
    "plt.xlabel('Anomaly Score', fontsize = 20)\n",
    "plt.ylabel('Number', fontsize = 20)\n",
    "plt.legend(prop ={'size':20})\n",
    "plt.savefig('Anomaly_Score.png')\n",
    "#plt.show()"
   ]
  },
  {
   "cell_type": "code",
   "execution_count": 105,
   "metadata": {},
   "outputs": [],
   "source": [
    "np.savetxt(\"IForest.csv\", y_score, delimiter=\",\")"
   ]
  },
  {
   "cell_type": "markdown",
   "metadata": {},
   "source": [
    "### Local Outlier Factor"
   ]
  },
  {
   "cell_type": "code",
   "execution_count": 144,
   "metadata": {},
   "outputs": [],
   "source": [
    "from sklearn.neighbors import LocalOutlierFactor\n",
    "np.random.seed(42)\n",
    "clf_lof = LocalOutlierFactor(contamination = 0.054875, n_neighbors = 20)\n",
    "y_pred = clf_lof.fit_predict(IF_X)"
   ]
  },
  {
   "cell_type": "code",
   "execution_count": 145,
   "metadata": {},
   "outputs": [],
   "source": [
    "# degree of anomaly\n",
    "X_scores = clf_lof.negative_outlier_factor_"
   ]
  },
  {
   "cell_type": "code",
   "execution_count": 146,
   "metadata": {},
   "outputs": [
    {
     "data": {
      "text/plain": [
       "array([-1.03093269, -0.99767294, -1.01674874, ..., -0.98405029,\n",
       "       -1.01064421, -0.99253561])"
      ]
     },
     "execution_count": 146,
     "metadata": {},
     "output_type": "execute_result"
    }
   ],
   "source": [
    "X_scores"
   ]
  },
  {
   "cell_type": "code",
   "execution_count": 147,
   "metadata": {},
   "outputs": [
    {
     "data": {
      "image/png": "[encoded data removed]",
      "text/plain": [
       "<Figure size 864x576 with 1 Axes>"
      ]
     },
     "metadata": {
      "needs_background": "light"
     },
     "output_type": "display_data"
    }
   ],
   "source": [
    "plt.figure(figsize=(12,8))\n",
    "plt.hist(X_scores, label=\"anomaly score\")\n",
    "plt.title(\"Distribution of Anomaly Scores\")\n",
    "plt.legend()\n",
    "plt.show()"
   ]
  },
  {
   "cell_type": "code",
   "execution_count": null,
   "metadata": {},
   "outputs": [],
   "source": []
  }
 ],
 "metadata": {
  "kernelspec": {
   "display_name": "Python 3",
   "language": "python",
   "name": "python3"
  },
  "language_info": {
   "codemirror_mode": {
    "name": "ipython",
    "version": 3
   },
   "file_extension": ".py",
   "mimetype": "text/x-python",
   "name": "python",
   "nbconvert_exporter": "python",
   "pygments_lexer": "ipython3",
   "version": "3.7.3"
  }
 },
 "nbformat": 4,
 "nbformat_minor": 2
}
